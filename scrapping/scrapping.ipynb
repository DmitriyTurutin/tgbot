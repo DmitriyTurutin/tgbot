{
 "cells": [
  {
   "attachments": {},
   "cell_type": "markdown",
   "id": "e189e659",
   "metadata": {},
   "source": [
    "Web scrapping hookah work website\n",
    "---\n",
    "\n",
    "## TODOS: \n",
    "- Распарсить страничку, получить из неё данные\n",
    "- Добавить эти данные в базу данных \n",
    "\n",
    "Парсинг\n",
    "---\n",
    "\n",
    "**В превую очередь**\n",
    "- Вход в crm'ку с помощью selenium — **done**\n",
    "- Сохранить данные продаж \n",
    "  - перейти на вкладку sales с помощью selenium — **done**\n",
    "  - распарсить табличку (пока max 10 штук) — **done**\n",
    "  - создать таблицу в базе данных с названиями столбцов как на странице — **done**\n",
    "  - добавить данные таблички в таблицу базы данных — **done**\n",
    "\n",
    "05.01.23\n",
    "\n",
    "- С помощью сервера как-то обновить данные таблицы — *to-do*"
   ]
  },
  {
   "attachments": {},
   "cell_type": "markdown",
   "id": "b635e7a4",
   "metadata": {},
   "source": [
    "### Выручка за день"
   ]
  },
  {
   "cell_type": "code",
   "execution_count": 83,
   "id": "27d5fa30-de7a-4cd0-a0d2-c252a34ae62e",
   "metadata": {},
   "outputs": [],
   "source": [
    "import requests\n",
    "from bs4 import BeautifulSoup\n",
    "# import selenium to automate login part\n",
    "from selenium import webdriver\n",
    "from selenium.webdriver.common.by import By\n",
    "import time\n",
    "\n",
    "import os"
   ]
  },
  {
   "attachments": {},
   "cell_type": "markdown",
   "id": "073cc7e8",
   "metadata": {},
   "source": [
    "#### Вход с selenium"
   ]
  },
  {
   "cell_type": "code",
   "execution_count": 84,
   "id": "43053f20",
   "metadata": {},
   "outputs": [],
   "source": [
    "driver = webdriver.Firefox()\n",
    "# Refactor to use os.environ\n",
    "driver.get(\"https://lab3.hookah.work/sales\")\n",
    "email = driver.find_element(By.ID, 'loginform-email')\n",
    "password = driver.find_element(By.ID, 'loginform-password')\n",
    "email.send_keys(\"lab3.bd@yandex.ru\")\n",
    "password.send_keys(\"bdpassword\")\n",
    "\n",
    "submit = driver.find_element(By.CLASS_NAME, 'btn-primary')\n",
    "submit.click()\n",
    "\n",
    "time.sleep(1)\n",
    "sales = driver.find_element(By.LINK_TEXT, 'Продажи') \n",
    "sales.click()\n",
    "time.sleep(2)\n",
    "\n",
    "html = driver.page_source\n"
   ]
  },
  {
   "attachments": {},
   "cell_type": "markdown",
   "id": "bada837a",
   "metadata": {},
   "source": [
    "#### Распарсить табличку"
   ]
  },
  {
   "cell_type": "code",
   "execution_count": 85,
   "id": "d7e006f3-3fe0-4c94-b03b-09cf27696e80",
   "metadata": {},
   "outputs": [],
   "source": [
    "soup = BeautifulSoup(html, 'html.parser')\n",
    "\n",
    "# Find all tr element with class 'odd' or 'even'\n",
    "rows = soup.find_all('tr', class_=['odd', 'even'])"
   ]
  },
  {
   "attachments": {},
   "cell_type": "markdown",
   "id": "4f778e09",
   "metadata": {},
   "source": [
    "#### Add table contents to postgresql database"
   ]
  },
  {
   "attachments": {},
   "cell_type": "markdown",
   "id": "4d1712f8",
   "metadata": {},
   "source": [
    "✓ Bootstrap postgres and pg admin using docker-compose\n",
    "\n",
    "✓ Connect to db using python \n",
    "- Write data to db"
   ]
  },
  {
   "attachments": {},
   "cell_type": "markdown",
   "id": "045f8d11",
   "metadata": {},
   "source": [
    "Connect to the database"
   ]
  },
  {
   "cell_type": "code",
   "execution_count": 86,
   "id": "42d0879b",
   "metadata": {},
   "outputs": [],
   "source": [
    "import psycopg2\n",
    "\n",
    "# Connect to the database\n",
    "conn = psycopg2.connect(\n",
    "    host=\"localhost\",\n",
    "    port=5432,\n",
    "    user=\"myuser\",\n",
    "    password=\"mypass\",\n",
    "    database=\"mydb\"\n",
    ")"
   ]
  },
  {
   "attachments": {},
   "cell_type": "markdown",
   "id": "433b0ac5",
   "metadata": {},
   "source": [
    "Create table if not exists"
   ]
  },
  {
   "cell_type": "code",
   "execution_count": 87,
   "id": "78d41f6d",
   "metadata": {},
   "outputs": [],
   "source": [
    "create_table_statement = f\"\"\"\n",
    "CREATE TABLE IF NOT EXISTS sales (\n",
    "    title text,\n",
    "    price  real,\n",
    "    amount integer,\n",
    "    payment_method text,\n",
    "    client text,\n",
    "    time_added timestamp NOT NULL PRIMARY KEY \n",
    ")\n",
    "\"\"\"\n",
    "cur = conn.cursor()\n",
    "cur.execute(create_table_statement)\n",
    "conn.commit()\n",
    "cur.close()"
   ]
  },
  {
   "attachments": {},
   "cell_type": "markdown",
   "id": "6f5f80e9",
   "metadata": {},
   "source": [
    "Insert sales table items to database table"
   ]
  },
  {
   "cell_type": "code",
   "execution_count": 88,
   "id": "6a534d06",
   "metadata": {},
   "outputs": [],
   "source": [
    "import re\n",
    "from datetime import datetime\n",
    "import locale\n",
    "locale.setlocale(locale.LC_TIME, 'ru_RU.UTF-8')\n",
    "\n",
    "to_parse = \"\"\n",
    "\n",
    "for row in rows:\n",
    "    tds = row.find_all('td')\n",
    "    title = tds[1].text.strip()\n",
    "    price = float(tds[4].text.strip())\n",
    "    amount = int(re.search(r'\\d', tds[3].text.strip()).group())\n",
    "    payment_method = tds[5].text.strip()\n",
    "    client = \"\"\n",
    "    time_added_unformatted = tds[12].text.strip()\n",
    "    to_parse = time_added_unformatted\n",
    "\n",
    "    try:\n",
    "        # Parse the string as a timestamp using the updated format string\n",
    "        time_added = datetime.strptime(time_added_unformatted, \"%d %b. %Y г., %H:%M:%S\")\n",
    "    except ValueError:\n",
    "        # Handle the ValueError exception\n",
    "        print(f\"Unable to parse timestamp: {time_added_unformatted}\")\n",
    "        continue\n",
    "\n",
    "    insert_statement = \"\"\"\n",
    "    INSERT INTO sales (title, price, amount, payment_method, client, time_added) \n",
    "    VALUES (%s, %s, %s, %s, %s, %s)\n",
    "    ON CONFLICT (time_added) DO NOTHING;\n",
    "    \"\"\"\n",
    "\n",
    "    cur = conn.cursor()\n",
    "\n",
    "    cur.execute(insert_statement, (\n",
    "        title, \n",
    "        price,\n",
    "        amount,\n",
    "        payment_method,\n",
    "        client,\n",
    "        time_added))\n",
    "\n",
    "    cur.close()\n",
    "    conn.commit()\n"
   ]
  },
  {
   "attachments": {},
   "cell_type": "markdown",
   "id": "03d618a2",
   "metadata": {},
   "source": [
    "Check table "
   ]
  },
  {
   "cell_type": "code",
   "execution_count": 89,
   "id": "8962ffe1",
   "metadata": {},
   "outputs": [
    {
     "name": "stdout",
     "output_type": "stream",
     "text": [
      "('Газировка 355мл (ж/б)', 123.0, 1, 'наличными', '', datetime.datetime(2023, 1, 4, 20, 48, 18))\n",
      "('Уголь кокосовый', 1300.0, 1, 'наличными', '', datetime.datetime(2023, 1, 4, 21, 52, 56))\n"
     ]
    }
   ],
   "source": [
    "cur = conn.cursor()\n",
    "\n",
    "cur.execute(\"SELECT * FROM sales\")\n",
    "\n",
    "rows = cur.fetchall()\n",
    "\n",
    "for row in rows:\n",
    "    print(row)\n",
    "\n",
    "\n",
    "cur.close()"
   ]
  },
  {
   "attachments": {},
   "cell_type": "markdown",
   "id": "00d54880",
   "metadata": {},
   "source": [
    "Create excel file from database table"
   ]
  },
  {
   "cell_type": "code",
   "execution_count": null,
   "id": "f321a646",
   "metadata": {},
   "outputs": [],
   "source": [
    "import pandas as pd\n",
    "cur = conn.cursor()\n",
    "\n",
    "cur.execute(\"SELECT * FROM sales\")\n",
    "\n",
    "data = cur.fetchall()\n",
    "\n",
    "columns = [desc[0] for desc in cur.description]\n",
    "\n",
    "df = pd.DataFrame(data, columns)\n",
    "\n",
    "df.to_excel"
   ]
  },
  {
   "attachments": {},
   "cell_type": "markdown",
   "id": "01f3f9f7",
   "metadata": {},
   "source": [
    "Close connection"
   ]
  },
  {
   "cell_type": "code",
   "execution_count": 90,
   "id": "0b02a67b",
   "metadata": {},
   "outputs": [],
   "source": [
    "conn.close()"
   ]
  }
 ],
 "metadata": {
  "kernelspec": {
   "display_name": "tgbot",
   "language": "python",
   "name": "python3"
  },
  "language_info": {
   "codemirror_mode": {
    "name": "ipython",
    "version": 3
   },
   "file_extension": ".py",
   "mimetype": "text/x-python",
   "name": "python",
   "nbconvert_exporter": "python",
   "pygments_lexer": "ipython3",
   "version": "3.11.0 | packaged by conda-forge | (main, Oct 25 2022, 06:18:27) [GCC 10.4.0]"
  },
  "vscode": {
   "interpreter": {
    "hash": "43e4e156621514f6ee533ae0fc1b911c222bb6a9d7ce9d30cc1328545241f188"
   }
  }
 },
 "nbformat": 4,
 "nbformat_minor": 5
}
